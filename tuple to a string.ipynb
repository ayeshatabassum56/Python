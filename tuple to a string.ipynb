{
 "cells": [
  {
   "cell_type": "markdown",
   "id": "3c26d3f5",
   "metadata": {},
   "source": [
    "# Program to convert a tuple to a string"
   ]
  },
  {
   "cell_type": "code",
   "execution_count": 4,
   "id": "082be445",
   "metadata": {},
   "outputs": [
    {
     "name": "stdout",
     "output_type": "stream",
     "text": [
      "ayesha\n"
     ]
    }
   ],
   "source": [
    "def convertTuple(tup):\n",
    "\t\t# initialize an empty string\n",
    "\tstr = ''\n",
    "\tfor item in tup:\n",
    "\t\tstr = str + item\n",
    "\treturn str\n",
    "\n",
    "\n",
    "# Driver code\n",
    "tuple = ('a', 'y', 'e', 's', 'h','a')\n",
    "str = convertTuple(tuple)\n",
    "print(str)\n"
   ]
  },
  {
   "cell_type": "code",
   "execution_count": null,
   "id": "66ebffb8",
   "metadata": {},
   "outputs": [],
   "source": []
  }
 ],
 "metadata": {
  "kernelspec": {
   "display_name": "Python 3 (ipykernel)",
   "language": "python",
   "name": "python3"
  },
  "language_info": {
   "codemirror_mode": {
    "name": "ipython",
    "version": 3
   },
   "file_extension": ".py",
   "mimetype": "text/x-python",
   "name": "python",
   "nbconvert_exporter": "python",
   "pygments_lexer": "ipython3",
   "version": "3.9.7"
  }
 },
 "nbformat": 4,
 "nbformat_minor": 5
}
