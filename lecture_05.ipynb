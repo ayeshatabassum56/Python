{
 "cells": [
  {
   "cell_type": "markdown",
   "id": "8ec2cf4f",
   "metadata": {},
   "source": [
    "# List and dictionary"
   ]
  },
  {
   "cell_type": "code",
   "execution_count": 4,
   "id": "86806b99",
   "metadata": {},
   "outputs": [],
   "source": [
    "lst = [0,1,2,3,4,5]"
   ]
  },
  {
   "cell_type": "code",
   "execution_count": 5,
   "id": "6fff9c51",
   "metadata": {},
   "outputs": [
    {
     "data": {
      "text/plain": [
       "0"
      ]
     },
     "execution_count": 5,
     "metadata": {},
     "output_type": "execute_result"
    }
   ],
   "source": [
    "lst[0]"
   ]
  },
  {
   "cell_type": "code",
   "execution_count": 6,
   "id": "fa6e8c39",
   "metadata": {},
   "outputs": [
    {
     "data": {
      "text/plain": [
       "3"
      ]
     },
     "execution_count": 6,
     "metadata": {},
     "output_type": "execute_result"
    }
   ],
   "source": [
    "lst[3]"
   ]
  },
  {
   "cell_type": "code",
   "execution_count": 7,
   "id": "67c6c7b0",
   "metadata": {},
   "outputs": [
    {
     "data": {
      "text/plain": [
       "[0, 1, 2, 3]"
      ]
     },
     "execution_count": 7,
     "metadata": {},
     "output_type": "execute_result"
    }
   ],
   "source": [
    "lst[0:4]"
   ]
  },
  {
   "cell_type": "code",
   "execution_count": 8,
   "id": "28f22398",
   "metadata": {},
   "outputs": [
    {
     "data": {
      "text/plain": [
       "5"
      ]
     },
     "execution_count": 8,
     "metadata": {},
     "output_type": "execute_result"
    }
   ],
   "source": [
    "lst[-1]"
   ]
  },
  {
   "cell_type": "code",
   "execution_count": 9,
   "id": "c017dad1",
   "metadata": {},
   "outputs": [],
   "source": [
    "lst=lst+[3.14,2.3,1,0,9,4]    #adding more digits in upper list"
   ]
  },
  {
   "cell_type": "code",
   "execution_count": 10,
   "id": "542bf1e3",
   "metadata": {},
   "outputs": [
    {
     "data": {
      "text/plain": [
       "[0, 1, 2, 3, 4, 5, 3.14, 2.3, 1, 0, 9, 4]"
      ]
     },
     "execution_count": 10,
     "metadata": {},
     "output_type": "execute_result"
    }
   ],
   "source": [
    "lst"
   ]
  },
  {
   "cell_type": "code",
   "execution_count": 11,
   "id": "96078e8a",
   "metadata": {},
   "outputs": [
    {
     "data": {
      "text/plain": [
       "int"
      ]
     },
     "execution_count": 11,
     "metadata": {},
     "output_type": "execute_result"
    }
   ],
   "source": [
    "type(lst[4])"
   ]
  },
  {
   "cell_type": "code",
   "execution_count": 12,
   "id": "f5fe1498",
   "metadata": {},
   "outputs": [],
   "source": [
    "# add string \n",
    "lst=lst+['ucp','umt','pac','pgc']"
   ]
  },
  {
   "cell_type": "code",
   "execution_count": 13,
   "id": "a84f4f51",
   "metadata": {},
   "outputs": [
    {
     "data": {
      "text/plain": [
       "[0, 1, 2, 3, 4, 5, 3.14, 2.3, 1, 0, 9, 4, 'ucp', 'umt', 'pac', 'pgc']"
      ]
     },
     "execution_count": 13,
     "metadata": {},
     "output_type": "execute_result"
    }
   ],
   "source": [
    "lst"
   ]
  },
  {
   "cell_type": "code",
   "execution_count": 14,
   "id": "951e7e8e",
   "metadata": {},
   "outputs": [
    {
     "data": {
      "text/plain": [
       "str"
      ]
     },
     "execution_count": 14,
     "metadata": {},
     "output_type": "execute_result"
    }
   ],
   "source": [
    "type(lst[12])"
   ]
  },
  {
   "cell_type": "code",
   "execution_count": 15,
   "id": "31477cbd",
   "metadata": {},
   "outputs": [],
   "source": [
    "lst.extend([12,34,5,6,7,89,0])   #built in function for extanding list"
   ]
  },
  {
   "cell_type": "code",
   "execution_count": 16,
   "id": "ec4b7419",
   "metadata": {},
   "outputs": [
    {
     "data": {
      "text/plain": [
       "[0,\n",
       " 1,\n",
       " 2,\n",
       " 3,\n",
       " 4,\n",
       " 5,\n",
       " 3.14,\n",
       " 2.3,\n",
       " 1,\n",
       " 0,\n",
       " 9,\n",
       " 4,\n",
       " 'ucp',\n",
       " 'umt',\n",
       " 'pac',\n",
       " 'pgc',\n",
       " 12,\n",
       " 34,\n",
       " 5,\n",
       " 6,\n",
       " 7,\n",
       " 89,\n",
       " 0]"
      ]
     },
     "execution_count": 16,
     "metadata": {},
     "output_type": "execute_result"
    }
   ],
   "source": [
    "lst"
   ]
  },
  {
   "cell_type": "code",
   "execution_count": 18,
   "id": "7c2d112e",
   "metadata": {},
   "outputs": [],
   "source": [
    "lst.append(['hy','here'])"
   ]
  },
  {
   "cell_type": "code",
   "execution_count": 19,
   "id": "696c7e8e",
   "metadata": {},
   "outputs": [
    {
     "data": {
      "text/plain": [
       "[0,\n",
       " 1,\n",
       " 2,\n",
       " 3,\n",
       " 4,\n",
       " 5,\n",
       " 3.14,\n",
       " 2.3,\n",
       " 1,\n",
       " 0,\n",
       " 9,\n",
       " 4,\n",
       " 'ucp',\n",
       " 'umt',\n",
       " 'pac',\n",
       " 'pgc',\n",
       " 12,\n",
       " 34,\n",
       " 5,\n",
       " 6,\n",
       " 7,\n",
       " 89,\n",
       " 0,\n",
       " ['hy', 'here']]"
      ]
     },
     "execution_count": 19,
     "metadata": {},
     "output_type": "execute_result"
    }
   ],
   "source": [
    "lst"
   ]
  },
  {
   "cell_type": "code",
   "execution_count": 20,
   "id": "a9bf6c1d",
   "metadata": {},
   "outputs": [
    {
     "data": {
      "text/plain": [
       "['hy', 'here']"
      ]
     },
     "execution_count": 20,
     "metadata": {},
     "output_type": "execute_result"
    }
   ],
   "source": [
    "lst[-1]"
   ]
  },
  {
   "cell_type": "code",
   "execution_count": 21,
   "id": "f53a4ddf",
   "metadata": {},
   "outputs": [
    {
     "data": {
      "text/plain": [
       "'here'"
      ]
     },
     "execution_count": 21,
     "metadata": {},
     "output_type": "execute_result"
    }
   ],
   "source": [
    "lst[-1][1]"
   ]
  },
  {
   "cell_type": "code",
   "execution_count": 22,
   "id": "f528ce5c",
   "metadata": {},
   "outputs": [
    {
     "data": {
      "text/plain": [
       "'r'"
      ]
     },
     "execution_count": 22,
     "metadata": {},
     "output_type": "execute_result"
    }
   ],
   "source": [
    "lst[-1][1][2]"
   ]
  },
  {
   "cell_type": "code",
   "execution_count": 24,
   "id": "f5ab7ff1",
   "metadata": {},
   "outputs": [],
   "source": [
    "lst.insert(5,555)"
   ]
  },
  {
   "cell_type": "code",
   "execution_count": 25,
   "id": "6133cce6",
   "metadata": {},
   "outputs": [
    {
     "data": {
      "text/plain": [
       "[0,\n",
       " 1,\n",
       " 2,\n",
       " 3,\n",
       " 4,\n",
       " 555,\n",
       " 5,\n",
       " 3.14,\n",
       " 2.3,\n",
       " 1,\n",
       " 0,\n",
       " 9,\n",
       " 4,\n",
       " 'ucp',\n",
       " 'umt',\n",
       " 'pac',\n",
       " 'pgc',\n",
       " 12,\n",
       " 34,\n",
       " 5,\n",
       " 6,\n",
       " 7,\n",
       " 89,\n",
       " 0,\n",
       " ['hy', 'here']]"
      ]
     },
     "execution_count": 25,
     "metadata": {},
     "output_type": "execute_result"
    }
   ],
   "source": [
    "lst"
   ]
  },
  {
   "cell_type": "code",
   "execution_count": 27,
   "id": "d64c7eaa",
   "metadata": {},
   "outputs": [],
   "source": [
    "#del    index need and delete that index\n",
    "#remove  remove \n",
    "#pop    delete last index value"
   ]
  },
  {
   "cell_type": "code",
   "execution_count": 28,
   "id": "830ee429",
   "metadata": {},
   "outputs": [],
   "source": [
    "del lst[5]"
   ]
  },
  {
   "cell_type": "code",
   "execution_count": 29,
   "id": "8068c00d",
   "metadata": {},
   "outputs": [
    {
     "data": {
      "text/plain": [
       "[0,\n",
       " 1,\n",
       " 2,\n",
       " 3,\n",
       " 4,\n",
       " 5,\n",
       " 3.14,\n",
       " 2.3,\n",
       " 1,\n",
       " 0,\n",
       " 9,\n",
       " 4,\n",
       " 'ucp',\n",
       " 'umt',\n",
       " 'pac',\n",
       " 'pgc',\n",
       " 12,\n",
       " 34,\n",
       " 5,\n",
       " 6,\n",
       " 7,\n",
       " 89,\n",
       " 0,\n",
       " ['hy', 'here']]"
      ]
     },
     "execution_count": 29,
     "metadata": {},
     "output_type": "execute_result"
    }
   ],
   "source": [
    "lst"
   ]
  },
  {
   "cell_type": "code",
   "execution_count": 35,
   "id": "cab7e63c",
   "metadata": {},
   "outputs": [],
   "source": [
    "lst.remove('umt')"
   ]
  },
  {
   "cell_type": "code",
   "execution_count": 36,
   "id": "2811ecb2",
   "metadata": {},
   "outputs": [
    {
     "data": {
      "text/plain": [
       "[0,\n",
       " 1,\n",
       " 2,\n",
       " 3,\n",
       " 4,\n",
       " 5,\n",
       " 3.14,\n",
       " 2.3,\n",
       " 1,\n",
       " 0,\n",
       " 9,\n",
       " 4,\n",
       " 'pac',\n",
       " 'pgc',\n",
       " 12,\n",
       " 34,\n",
       " 5,\n",
       " 6,\n",
       " 7,\n",
       " 89,\n",
       " 0,\n",
       " ['hy', 'here']]"
      ]
     },
     "execution_count": 36,
     "metadata": {},
     "output_type": "execute_result"
    }
   ],
   "source": [
    "lst"
   ]
  },
  {
   "cell_type": "code",
   "execution_count": 37,
   "id": "f2158d45",
   "metadata": {},
   "outputs": [
    {
     "data": {
      "text/plain": [
       "['hy', 'here']"
      ]
     },
     "execution_count": 37,
     "metadata": {},
     "output_type": "execute_result"
    }
   ],
   "source": [
    "lst.pop()"
   ]
  },
  {
   "cell_type": "code",
   "execution_count": 49,
   "id": "ba76fb3d",
   "metadata": {},
   "outputs": [
    {
     "name": "stdout",
     "output_type": "stream",
     "text": [
      "2\n",
      "2\n",
      "2\n",
      "2\n",
      "2\n",
      "2\n",
      "2\n",
      "2\n",
      "2\n",
      "2\n"
     ]
    }
   ],
   "source": [
    "for x in lst:\n",
    "    if type(x)== int:\n",
    "        print('2')\n",
    "        lst.remove(x)"
   ]
  },
  {
   "cell_type": "code",
   "execution_count": 50,
   "id": "ed74289d",
   "metadata": {},
   "outputs": [
    {
     "data": {
      "text/plain": [
       "[1, 2.3, 3.14, 4, 9, 34, 6, 89, 0]"
      ]
     },
     "execution_count": 50,
     "metadata": {},
     "output_type": "execute_result"
    }
   ],
   "source": [
    "lst"
   ]
  },
  {
   "cell_type": "code",
   "execution_count": 53,
   "id": "d35def5a",
   "metadata": {},
   "outputs": [],
   "source": [
    "lst.sort()"
   ]
  },
  {
   "cell_type": "raw",
   "id": "78b3fa3a",
   "metadata": {},
   "source": [
    "lst"
   ]
  },
  {
   "cell_type": "code",
   "execution_count": 73,
   "id": "6c4c8a0b",
   "metadata": {},
   "outputs": [],
   "source": [
    "#dictionary\n",
    "#key =value(s)\n",
    "d={'Country':['pakistan','iran','indai','china'],'Capital' : ['islamabad','tehran','Dehli','usa'],'Population':[1233,34432,9987,8987]}"
   ]
  },
  {
   "cell_type": "code",
   "execution_count": 74,
   "id": "60fbd07d",
   "metadata": {},
   "outputs": [
    {
     "data": {
      "text/plain": [
       "dict_items([('Country', ['pakistan', 'iran', 'indai', 'china']), ('Capital', ['islamabad', 'tehran', 'Dehli', 'usa']), ('Population', [1233, 34432, 9987, 8987])])"
      ]
     },
     "execution_count": 74,
     "metadata": {},
     "output_type": "execute_result"
    }
   ],
   "source": [
    "d.items() #display contect"
   ]
  },
  {
   "cell_type": "code",
   "execution_count": 75,
   "id": "575d18e5",
   "metadata": {},
   "outputs": [
    {
     "data": {
      "text/plain": [
       "{'Country': ['pakistan', 'iran', 'indai', 'china'],\n",
       " 'Capital': ['islamabad', 'tehran', 'Dehli', 'usa'],\n",
       " 'Population': [1233, 34432, 9987, 8987]}"
      ]
     },
     "execution_count": 75,
     "metadata": {},
     "output_type": "execute_result"
    }
   ],
   "source": [
    "d"
   ]
  },
  {
   "cell_type": "code",
   "execution_count": 76,
   "id": "85f7d1a7",
   "metadata": {},
   "outputs": [
    {
     "data": {
      "text/plain": [
       "dict_keys(['Country', 'Capital', 'Population'])"
      ]
     },
     "execution_count": 76,
     "metadata": {},
     "output_type": "execute_result"
    }
   ],
   "source": [
    "d.keys()"
   ]
  },
  {
   "cell_type": "code",
   "execution_count": 77,
   "id": "fa36e862",
   "metadata": {},
   "outputs": [
    {
     "data": {
      "text/plain": [
       "dict_values([['pakistan', 'iran', 'indai', 'china'], ['islamabad', 'tehran', 'Dehli', 'usa'], [1233, 34432, 9987, 8987]])"
      ]
     },
     "execution_count": 77,
     "metadata": {},
     "output_type": "execute_result"
    }
   ],
   "source": [
    "d.values()"
   ]
  },
  {
   "cell_type": "code",
   "execution_count": 78,
   "id": "91099dc2",
   "metadata": {},
   "outputs": [
    {
     "name": "stdout",
     "output_type": "stream",
     "text": [
      "['pakistan', 'iran', 'indai', 'china']\n",
      "['islamabad', 'tehran', 'Dehli', 'usa']\n",
      "[1233, 34432, 9987, 8987]\n"
     ]
    }
   ],
   "source": [
    "for v in d.values():\n",
    "    print(v)"
   ]
  },
  {
   "cell_type": "code",
   "execution_count": 79,
   "id": "b37c4dc5",
   "metadata": {},
   "outputs": [
    {
     "name": "stdout",
     "output_type": "stream",
     "text": [
      "Country\n",
      "Capital\n",
      "Population\n"
     ]
    }
   ],
   "source": [
    "for k in d.keys():\n",
    "    print(k)"
   ]
  },
  {
   "cell_type": "code",
   "execution_count": 80,
   "id": "093f8416",
   "metadata": {},
   "outputs": [
    {
     "name": "stdout",
     "output_type": "stream",
     "text": [
      "Country => ['pakistan', 'iran', 'indai', 'china']\n",
      "Capital => ['islamabad', 'tehran', 'Dehli', 'usa']\n",
      "Population => [1233, 34432, 9987, 8987]\n"
     ]
    }
   ],
   "source": [
    "for k,v in d.items():\n",
    "    print(k,'=>',v)"
   ]
  },
  {
   "cell_type": "code",
   "execution_count": 67,
   "id": "8be0ab0c",
   "metadata": {},
   "outputs": [],
   "source": [
    "#tabular form \n",
    "#pandas"
   ]
  },
  {
   "cell_type": "markdown",
   "id": "3957c0dc",
   "metadata": {},
   "source": [
    "# Pandas"
   ]
  },
  {
   "cell_type": "code",
   "execution_count": 81,
   "id": "9431dcd1",
   "metadata": {},
   "outputs": [],
   "source": [
    "import pandas as pd"
   ]
  },
  {
   "cell_type": "code",
   "execution_count": 83,
   "id": "df2cab3b",
   "metadata": {},
   "outputs": [],
   "source": [
    "df=pd.DataFrame.from_dict(d)"
   ]
  },
  {
   "cell_type": "code",
   "execution_count": 84,
   "id": "10b59fd7",
   "metadata": {},
   "outputs": [],
   "source": [
    "df.to_csv(r'pbd_d2.csv',index=False,header=True)"
   ]
  },
  {
   "cell_type": "code",
   "execution_count": 85,
   "id": "ceb88b10",
   "metadata": {},
   "outputs": [
    {
     "data": {
      "text/html": [
       "<div>\n",
       "<style scoped>\n",
       "    .dataframe tbody tr th:only-of-type {\n",
       "        vertical-align: middle;\n",
       "    }\n",
       "\n",
       "    .dataframe tbody tr th {\n",
       "        vertical-align: top;\n",
       "    }\n",
       "\n",
       "    .dataframe thead th {\n",
       "        text-align: right;\n",
       "    }\n",
       "</style>\n",
       "<table border=\"1\" class=\"dataframe\">\n",
       "  <thead>\n",
       "    <tr style=\"text-align: right;\">\n",
       "      <th></th>\n",
       "      <th>Country</th>\n",
       "      <th>Capital</th>\n",
       "      <th>Population</th>\n",
       "    </tr>\n",
       "  </thead>\n",
       "  <tbody>\n",
       "    <tr>\n",
       "      <th>0</th>\n",
       "      <td>pakistan</td>\n",
       "      <td>islamabad</td>\n",
       "      <td>1233</td>\n",
       "    </tr>\n",
       "    <tr>\n",
       "      <th>1</th>\n",
       "      <td>iran</td>\n",
       "      <td>tehran</td>\n",
       "      <td>34432</td>\n",
       "    </tr>\n",
       "    <tr>\n",
       "      <th>2</th>\n",
       "      <td>indai</td>\n",
       "      <td>Dehli</td>\n",
       "      <td>9987</td>\n",
       "    </tr>\n",
       "    <tr>\n",
       "      <th>3</th>\n",
       "      <td>china</td>\n",
       "      <td>usa</td>\n",
       "      <td>8987</td>\n",
       "    </tr>\n",
       "  </tbody>\n",
       "</table>\n",
       "</div>"
      ],
      "text/plain": [
       "    Country    Capital  Population\n",
       "0  pakistan  islamabad        1233\n",
       "1      iran     tehran       34432\n",
       "2     indai      Dehli        9987\n",
       "3     china        usa        8987"
      ]
     },
     "execution_count": 85,
     "metadata": {},
     "output_type": "execute_result"
    }
   ],
   "source": [
    "df"
   ]
  },
  {
   "cell_type": "code",
   "execution_count": 86,
   "id": "d391a44e",
   "metadata": {},
   "outputs": [],
   "source": [
    "df.to_csv(r'pbd_d2.csv')"
   ]
  },
  {
   "cell_type": "code",
   "execution_count": 87,
   "id": "bd10b7ea",
   "metadata": {},
   "outputs": [
    {
     "data": {
      "text/html": [
       "<div>\n",
       "<style scoped>\n",
       "    .dataframe tbody tr th:only-of-type {\n",
       "        vertical-align: middle;\n",
       "    }\n",
       "\n",
       "    .dataframe tbody tr th {\n",
       "        vertical-align: top;\n",
       "    }\n",
       "\n",
       "    .dataframe thead th {\n",
       "        text-align: right;\n",
       "    }\n",
       "</style>\n",
       "<table border=\"1\" class=\"dataframe\">\n",
       "  <thead>\n",
       "    <tr style=\"text-align: right;\">\n",
       "      <th></th>\n",
       "      <th>Country</th>\n",
       "      <th>Capital</th>\n",
       "      <th>Population</th>\n",
       "    </tr>\n",
       "  </thead>\n",
       "  <tbody>\n",
       "    <tr>\n",
       "      <th>0</th>\n",
       "      <td>pakistan</td>\n",
       "      <td>islamabad</td>\n",
       "      <td>1233</td>\n",
       "    </tr>\n",
       "    <tr>\n",
       "      <th>1</th>\n",
       "      <td>iran</td>\n",
       "      <td>tehran</td>\n",
       "      <td>34432</td>\n",
       "    </tr>\n",
       "    <tr>\n",
       "      <th>2</th>\n",
       "      <td>indai</td>\n",
       "      <td>Dehli</td>\n",
       "      <td>9987</td>\n",
       "    </tr>\n",
       "    <tr>\n",
       "      <th>3</th>\n",
       "      <td>china</td>\n",
       "      <td>usa</td>\n",
       "      <td>8987</td>\n",
       "    </tr>\n",
       "  </tbody>\n",
       "</table>\n",
       "</div>"
      ],
      "text/plain": [
       "    Country    Capital  Population\n",
       "0  pakistan  islamabad        1233\n",
       "1      iran     tehran       34432\n",
       "2     indai      Dehli        9987\n",
       "3     china        usa        8987"
      ]
     },
     "execution_count": 87,
     "metadata": {},
     "output_type": "execute_result"
    }
   ],
   "source": [
    "df"
   ]
  },
  {
   "cell_type": "code",
   "execution_count": 88,
   "id": "3946e79b",
   "metadata": {},
   "outputs": [],
   "source": [
    "dff=pd.read_csv('pbd_d2.csv')"
   ]
  },
  {
   "cell_type": "code",
   "execution_count": 89,
   "id": "69600b0e",
   "metadata": {},
   "outputs": [
    {
     "data": {
      "text/html": [
       "<div>\n",
       "<style scoped>\n",
       "    .dataframe tbody tr th:only-of-type {\n",
       "        vertical-align: middle;\n",
       "    }\n",
       "\n",
       "    .dataframe tbody tr th {\n",
       "        vertical-align: top;\n",
       "    }\n",
       "\n",
       "    .dataframe thead th {\n",
       "        text-align: right;\n",
       "    }\n",
       "</style>\n",
       "<table border=\"1\" class=\"dataframe\">\n",
       "  <thead>\n",
       "    <tr style=\"text-align: right;\">\n",
       "      <th></th>\n",
       "      <th>Unnamed: 0</th>\n",
       "      <th>Country</th>\n",
       "      <th>Capital</th>\n",
       "      <th>Population</th>\n",
       "    </tr>\n",
       "  </thead>\n",
       "  <tbody>\n",
       "    <tr>\n",
       "      <th>0</th>\n",
       "      <td>0</td>\n",
       "      <td>pakistan</td>\n",
       "      <td>islamabad</td>\n",
       "      <td>1233</td>\n",
       "    </tr>\n",
       "    <tr>\n",
       "      <th>1</th>\n",
       "      <td>1</td>\n",
       "      <td>iran</td>\n",
       "      <td>tehran</td>\n",
       "      <td>34432</td>\n",
       "    </tr>\n",
       "    <tr>\n",
       "      <th>2</th>\n",
       "      <td>2</td>\n",
       "      <td>indai</td>\n",
       "      <td>Dehli</td>\n",
       "      <td>9987</td>\n",
       "    </tr>\n",
       "    <tr>\n",
       "      <th>3</th>\n",
       "      <td>3</td>\n",
       "      <td>china</td>\n",
       "      <td>usa</td>\n",
       "      <td>8987</td>\n",
       "    </tr>\n",
       "  </tbody>\n",
       "</table>\n",
       "</div>"
      ],
      "text/plain": [
       "   Unnamed: 0   Country    Capital  Population\n",
       "0           0  pakistan  islamabad        1233\n",
       "1           1      iran     tehran       34432\n",
       "2           2     indai      Dehli        9987\n",
       "3           3     china        usa        8987"
      ]
     },
     "execution_count": 89,
     "metadata": {},
     "output_type": "execute_result"
    }
   ],
   "source": [
    "dff"
   ]
  },
  {
   "cell_type": "code",
   "execution_count": 90,
   "id": "44bc1d4b",
   "metadata": {},
   "outputs": [],
   "source": [
    "df.to_csv(r'pbd_d2.csv',index=False,header=True)"
   ]
  },
  {
   "cell_type": "code",
   "execution_count": 91,
   "id": "f5dc13ec",
   "metadata": {},
   "outputs": [
    {
     "data": {
      "text/html": [
       "<div>\n",
       "<style scoped>\n",
       "    .dataframe tbody tr th:only-of-type {\n",
       "        vertical-align: middle;\n",
       "    }\n",
       "\n",
       "    .dataframe tbody tr th {\n",
       "        vertical-align: top;\n",
       "    }\n",
       "\n",
       "    .dataframe thead th {\n",
       "        text-align: right;\n",
       "    }\n",
       "</style>\n",
       "<table border=\"1\" class=\"dataframe\">\n",
       "  <thead>\n",
       "    <tr style=\"text-align: right;\">\n",
       "      <th></th>\n",
       "      <th>Country</th>\n",
       "      <th>Capital</th>\n",
       "      <th>Population</th>\n",
       "    </tr>\n",
       "  </thead>\n",
       "  <tbody>\n",
       "    <tr>\n",
       "      <th>0</th>\n",
       "      <td>pakistan</td>\n",
       "      <td>islamabad</td>\n",
       "      <td>1233</td>\n",
       "    </tr>\n",
       "    <tr>\n",
       "      <th>1</th>\n",
       "      <td>iran</td>\n",
       "      <td>tehran</td>\n",
       "      <td>34432</td>\n",
       "    </tr>\n",
       "    <tr>\n",
       "      <th>2</th>\n",
       "      <td>indai</td>\n",
       "      <td>Dehli</td>\n",
       "      <td>9987</td>\n",
       "    </tr>\n",
       "    <tr>\n",
       "      <th>3</th>\n",
       "      <td>china</td>\n",
       "      <td>usa</td>\n",
       "      <td>8987</td>\n",
       "    </tr>\n",
       "  </tbody>\n",
       "</table>\n",
       "</div>"
      ],
      "text/plain": [
       "    Country    Capital  Population\n",
       "0  pakistan  islamabad        1233\n",
       "1      iran     tehran       34432\n",
       "2     indai      Dehli        9987\n",
       "3     china        usa        8987"
      ]
     },
     "execution_count": 91,
     "metadata": {},
     "output_type": "execute_result"
    }
   ],
   "source": [
    "df"
   ]
  },
  {
   "cell_type": "code",
   "execution_count": 92,
   "id": "0be778ad",
   "metadata": {},
   "outputs": [],
   "source": [
    "dff=pd.read_csv('pbd_d2.csv')"
   ]
  },
  {
   "cell_type": "code",
   "execution_count": 93,
   "id": "1cd2a004",
   "metadata": {},
   "outputs": [
    {
     "data": {
      "text/html": [
       "<div>\n",
       "<style scoped>\n",
       "    .dataframe tbody tr th:only-of-type {\n",
       "        vertical-align: middle;\n",
       "    }\n",
       "\n",
       "    .dataframe tbody tr th {\n",
       "        vertical-align: top;\n",
       "    }\n",
       "\n",
       "    .dataframe thead th {\n",
       "        text-align: right;\n",
       "    }\n",
       "</style>\n",
       "<table border=\"1\" class=\"dataframe\">\n",
       "  <thead>\n",
       "    <tr style=\"text-align: right;\">\n",
       "      <th></th>\n",
       "      <th>Country</th>\n",
       "      <th>Capital</th>\n",
       "      <th>Population</th>\n",
       "    </tr>\n",
       "  </thead>\n",
       "  <tbody>\n",
       "    <tr>\n",
       "      <th>0</th>\n",
       "      <td>pakistan</td>\n",
       "      <td>islamabad</td>\n",
       "      <td>1233</td>\n",
       "    </tr>\n",
       "    <tr>\n",
       "      <th>1</th>\n",
       "      <td>iran</td>\n",
       "      <td>tehran</td>\n",
       "      <td>34432</td>\n",
       "    </tr>\n",
       "    <tr>\n",
       "      <th>2</th>\n",
       "      <td>indai</td>\n",
       "      <td>Dehli</td>\n",
       "      <td>9987</td>\n",
       "    </tr>\n",
       "    <tr>\n",
       "      <th>3</th>\n",
       "      <td>china</td>\n",
       "      <td>usa</td>\n",
       "      <td>8987</td>\n",
       "    </tr>\n",
       "  </tbody>\n",
       "</table>\n",
       "</div>"
      ],
      "text/plain": [
       "    Country    Capital  Population\n",
       "0  pakistan  islamabad        1233\n",
       "1      iran     tehran       34432\n",
       "2     indai      Dehli        9987\n",
       "3     china        usa        8987"
      ]
     },
     "execution_count": 93,
     "metadata": {},
     "output_type": "execute_result"
    }
   ],
   "source": [
    "dff"
   ]
  },
  {
   "cell_type": "code",
   "execution_count": 94,
   "id": "9d65f82b",
   "metadata": {},
   "outputs": [
    {
     "data": {
      "text/html": [
       "<div>\n",
       "<style scoped>\n",
       "    .dataframe tbody tr th:only-of-type {\n",
       "        vertical-align: middle;\n",
       "    }\n",
       "\n",
       "    .dataframe tbody tr th {\n",
       "        vertical-align: top;\n",
       "    }\n",
       "\n",
       "    .dataframe thead th {\n",
       "        text-align: right;\n",
       "    }\n",
       "</style>\n",
       "<table border=\"1\" class=\"dataframe\">\n",
       "  <thead>\n",
       "    <tr style=\"text-align: right;\">\n",
       "      <th></th>\n",
       "      <th>Country</th>\n",
       "      <th>Capital</th>\n",
       "      <th>Population</th>\n",
       "    </tr>\n",
       "  </thead>\n",
       "  <tbody>\n",
       "    <tr>\n",
       "      <th>0</th>\n",
       "      <td>pakistan</td>\n",
       "      <td>islamabad</td>\n",
       "      <td>1233</td>\n",
       "    </tr>\n",
       "    <tr>\n",
       "      <th>1</th>\n",
       "      <td>iran</td>\n",
       "      <td>tehran</td>\n",
       "      <td>34432</td>\n",
       "    </tr>\n",
       "    <tr>\n",
       "      <th>2</th>\n",
       "      <td>indai</td>\n",
       "      <td>Dehli</td>\n",
       "      <td>9987</td>\n",
       "    </tr>\n",
       "  </tbody>\n",
       "</table>\n",
       "</div>"
      ],
      "text/plain": [
       "    Country    Capital  Population\n",
       "0  pakistan  islamabad        1233\n",
       "1      iran     tehran       34432\n",
       "2     indai      Dehli        9987"
      ]
     },
     "execution_count": 94,
     "metadata": {},
     "output_type": "execute_result"
    }
   ],
   "source": [
    "dff.head(3)"
   ]
  },
  {
   "cell_type": "code",
   "execution_count": 95,
   "id": "80e2fa3d",
   "metadata": {},
   "outputs": [
    {
     "data": {
      "text/html": [
       "<div>\n",
       "<style scoped>\n",
       "    .dataframe tbody tr th:only-of-type {\n",
       "        vertical-align: middle;\n",
       "    }\n",
       "\n",
       "    .dataframe tbody tr th {\n",
       "        vertical-align: top;\n",
       "    }\n",
       "\n",
       "    .dataframe thead th {\n",
       "        text-align: right;\n",
       "    }\n",
       "</style>\n",
       "<table border=\"1\" class=\"dataframe\">\n",
       "  <thead>\n",
       "    <tr style=\"text-align: right;\">\n",
       "      <th></th>\n",
       "      <th>Country</th>\n",
       "      <th>Capital</th>\n",
       "      <th>Population</th>\n",
       "    </tr>\n",
       "  </thead>\n",
       "  <tbody>\n",
       "    <tr>\n",
       "      <th>1</th>\n",
       "      <td>iran</td>\n",
       "      <td>tehran</td>\n",
       "      <td>34432</td>\n",
       "    </tr>\n",
       "    <tr>\n",
       "      <th>2</th>\n",
       "      <td>indai</td>\n",
       "      <td>Dehli</td>\n",
       "      <td>9987</td>\n",
       "    </tr>\n",
       "    <tr>\n",
       "      <th>3</th>\n",
       "      <td>china</td>\n",
       "      <td>usa</td>\n",
       "      <td>8987</td>\n",
       "    </tr>\n",
       "  </tbody>\n",
       "</table>\n",
       "</div>"
      ],
      "text/plain": [
       "  Country Capital  Population\n",
       "1    iran  tehran       34432\n",
       "2   indai   Dehli        9987\n",
       "3   china     usa        8987"
      ]
     },
     "execution_count": 95,
     "metadata": {},
     "output_type": "execute_result"
    }
   ],
   "source": [
    "dff.tail(3)"
   ]
  },
  {
   "cell_type": "code",
   "execution_count": 96,
   "id": "3f0175ee",
   "metadata": {},
   "outputs": [
    {
     "data": {
      "text/html": [
       "<div>\n",
       "<style scoped>\n",
       "    .dataframe tbody tr th:only-of-type {\n",
       "        vertical-align: middle;\n",
       "    }\n",
       "\n",
       "    .dataframe tbody tr th {\n",
       "        vertical-align: top;\n",
       "    }\n",
       "\n",
       "    .dataframe thead th {\n",
       "        text-align: right;\n",
       "    }\n",
       "</style>\n",
       "<table border=\"1\" class=\"dataframe\">\n",
       "  <thead>\n",
       "    <tr style=\"text-align: right;\">\n",
       "      <th></th>\n",
       "      <th>Country</th>\n",
       "      <th>Capital</th>\n",
       "      <th>Population</th>\n",
       "    </tr>\n",
       "  </thead>\n",
       "  <tbody>\n",
       "    <tr>\n",
       "      <th>0</th>\n",
       "      <td>pakistan</td>\n",
       "      <td>islamabad</td>\n",
       "      <td>1233</td>\n",
       "    </tr>\n",
       "    <tr>\n",
       "      <th>1</th>\n",
       "      <td>iran</td>\n",
       "      <td>tehran</td>\n",
       "      <td>34432</td>\n",
       "    </tr>\n",
       "    <tr>\n",
       "      <th>2</th>\n",
       "      <td>indai</td>\n",
       "      <td>Dehli</td>\n",
       "      <td>9987</td>\n",
       "    </tr>\n",
       "    <tr>\n",
       "      <th>3</th>\n",
       "      <td>china</td>\n",
       "      <td>usa</td>\n",
       "      <td>8987</td>\n",
       "    </tr>\n",
       "  </tbody>\n",
       "</table>\n",
       "</div>"
      ],
      "text/plain": [
       "    Country    Capital  Population\n",
       "0  pakistan  islamabad        1233\n",
       "1      iran     tehran       34432\n",
       "2     indai      Dehli        9987\n",
       "3     china        usa        8987"
      ]
     },
     "execution_count": 96,
     "metadata": {},
     "output_type": "execute_result"
    }
   ],
   "source": [
    "dff"
   ]
  },
  {
   "cell_type": "code",
   "execution_count": 97,
   "id": "7c4f25ca",
   "metadata": {},
   "outputs": [],
   "source": [
    "t=(1,2,3,4)"
   ]
  },
  {
   "cell_type": "code",
   "execution_count": 98,
   "id": "349f4a05",
   "metadata": {},
   "outputs": [
    {
     "data": {
      "text/plain": [
       "tuple"
      ]
     },
     "execution_count": 98,
     "metadata": {},
     "output_type": "execute_result"
    }
   ],
   "source": [
    "type(t)"
   ]
  },
  {
   "cell_type": "code",
   "execution_count": 99,
   "id": "28c24bd6",
   "metadata": {},
   "outputs": [
    {
     "data": {
      "text/plain": [
       "1"
      ]
     },
     "execution_count": 99,
     "metadata": {},
     "output_type": "execute_result"
    }
   ],
   "source": [
    "t[0]"
   ]
  },
  {
   "cell_type": "code",
   "execution_count": null,
   "id": "15bb8eed",
   "metadata": {},
   "outputs": [],
   "source": []
  }
 ],
 "metadata": {
  "kernelspec": {
   "display_name": "Python 3 (ipykernel)",
   "language": "python",
   "name": "python3"
  },
  "language_info": {
   "codemirror_mode": {
    "name": "ipython",
    "version": 3
   },
   "file_extension": ".py",
   "mimetype": "text/x-python",
   "name": "python",
   "nbconvert_exporter": "python",
   "pygments_lexer": "ipython3",
   "version": "3.9.7"
  }
 },
 "nbformat": 4,
 "nbformat_minor": 5
}
