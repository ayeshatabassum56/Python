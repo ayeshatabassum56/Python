{
 "cells": [
  {
   "cell_type": "markdown",
   "id": "10cd0c40",
   "metadata": {},
   "source": [
    "# Assignment quiz\n",
    "\n"
   ]
  },
  {
   "cell_type": "code",
   "execution_count": 46,
   "id": "8bda36ea",
   "metadata": {},
   "outputs": [
    {
     "name": "stdout",
     "output_type": "stream",
     "text": [
      "The ASCII value of 'g' is 103\n"
     ]
    }
   ],
   "source": [
    "# Python program to print\n",
    "# ASCII Value of Character\n",
    "\n",
    "# In c we can assign different\n",
    "# characters of which we want ASCII value\n",
    "\n",
    "c = 'g'\n",
    "# print the ASCII value of assigned character in c\n",
    "print(\"The ASCII value of '\" + c + \"' is\", ord(c))\n"
   ]
  },
  {
   "cell_type": "markdown",
   "id": "0c4ede51",
   "metadata": {},
   "source": [
    "# Q2"
   ]
  },
  {
   "cell_type": "code",
   "execution_count": null,
   "id": "2ea9ac5a",
   "metadata": {},
   "outputs": [],
   "source": [
    "num=int(input(\"enter num\"))\n",
    "if num < 0:\n",
    "   print(\"Enter a positive number\")\n",
    "else:\n",
    "   sum = 0\n",
    "   # use while loop to iterate until zero\n",
    "   while(num > 0):\n",
    "       sum += num\n",
    "       num -= 1\n",
    "   print(\"The sum is\", sum)"
   ]
  },
  {
   "cell_type": "markdown",
   "id": "c40f7c5f",
   "metadata": {},
   "source": [
    "# Q3"
   ]
  },
  {
   "cell_type": "code",
   "execution_count": null,
   "id": "e3fd4d12",
   "metadata": {},
   "outputs": [],
   "source": [
    "SPEED = 70\n",
    "\n",
    "time = 6\n",
    "distance = SPEED * time\n",
    "print('\\nThe distance the car will travel in', time, 'hours =', distance)\n",
    "\n",
    "time = 10\n",
    "distance = SPEED * time\n",
    "print('The distance the car will travel in', time, 'hours =', distance)\n",
    "\n",
    "time = 15\n",
    "distance = SPEED * time\n",
    "print('The distance the car will travel in', time, 'hours =', distance, end='\\n\\n')"
   ]
  },
  {
   "cell_type": "markdown",
   "id": "11733e0b",
   "metadata": {},
   "source": [
    "# Q4"
   ]
  },
  {
   "cell_type": "code",
   "execution_count": null,
   "id": "58725677",
   "metadata": {},
   "outputs": [],
   "source": [
    "temp = input(\"Input the  temperature you like to convert? (e.g., 45F, 102C etc.) : \")\n",
    "degree = int(temp[:-1])\n",
    "i_convention = temp[-1]\n",
    "\n",
    "if i_convention.upper() == \"C\":\n",
    "  result = int(round((9 * degree) / 5 + 32))\n",
    "  o_convention = \"Fahrenheit\"\n",
    "elif i_convention.upper() == \"F\":\n",
    "  result = int(round((degree - 32) * 5 / 9))\n",
    "  o_convention = \"Celsius\"\n",
    "else:\n",
    "  print(\"Input proper convention.\")\n",
    "  quit()\n",
    "print(\"The temperature in\", o_convention, \"is\", result, \"degrees.\")"
   ]
  },
  {
   "cell_type": "markdown",
   "id": "35df2442",
   "metadata": {},
   "source": [
    "# Q5"
   ]
  },
  {
   "cell_type": "code",
   "execution_count": null,
   "id": "9b544208",
   "metadata": {},
   "outputs": [],
   "source": [
    "kmh = int(input(\"Enter km/h: \"))\n",
    "mph =  0.6214 * kmh\n",
    "print (\"Speed:\", kmh, \"KM/H = \", mph, \"MPH\")\n"
   ]
  },
  {
   "cell_type": "markdown",
   "id": "eecf4df5",
   "metadata": {},
   "source": [
    "# Q6"
   ]
  },
  {
   "cell_type": "code",
   "execution_count": null,
   "id": "f56fd84c",
   "metadata": {},
   "outputs": [],
   "source": [
    "\n",
    "def count(S, m, n):\n",
    "\ttable = [0 for k in range(n+1)]\n",
    "\ttable[0] = 1\n",
    "\tfor i in range(0,m):\n",
    "\t\tfor j in range(S[i],n+1):\n",
    "\t\t\ttable[j] += table[j-S[i]]\n",
    "\n",
    "\treturn table[n]\n",
    "arr = [1, 2, 3]\n",
    "m = len(arr)\n",
    "n = 4\n",
    "x = count(arr, m, n)\n",
    "print (x)\n",
    "# This code is contributed by Afzal Ansari\n",
    "\n"
   ]
  },
  {
   "cell_type": "markdown",
   "id": "b8d6799f",
   "metadata": {},
   "source": [
    "..\n"
   ]
  },
  {
   "cell_type": "code",
   "execution_count": null,
   "id": "208326ff",
   "metadata": {},
   "outputs": [],
   "source": []
  },
  {
   "cell_type": "code",
   "execution_count": null,
   "id": "c2b4aa94",
   "metadata": {},
   "outputs": [],
   "source": []
  },
  {
   "cell_type": "code",
   "execution_count": null,
   "id": "323412bf",
   "metadata": {},
   "outputs": [],
   "source": []
  }
 ],
 "metadata": {
  "kernelspec": {
   "display_name": "Python 3 (ipykernel)",
   "language": "python",
   "name": "python3"
  },
  "language_info": {
   "codemirror_mode": {
    "name": "ipython",
    "version": 3
   },
   "file_extension": ".py",
   "mimetype": "text/x-python",
   "name": "python",
   "nbconvert_exporter": "python",
   "pygments_lexer": "ipython3",
   "version": "3.9.7"
  }
 },
 "nbformat": 4,
 "nbformat_minor": 5
}
